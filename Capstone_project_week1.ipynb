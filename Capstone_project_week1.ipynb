{
 "cells": [
  {
   "cell_type": "markdown",
   "metadata": {},
   "source": [
    "# Data Science Capstone Project - Week 1/2\n",
    "### Introduction"
   ]
  },
  {
   "cell_type": "markdown",
   "metadata": {},
   "source": [
    "The goal in this project is to recommend a best place to stay during the holiday in Warsaw"
   ]
  },
  {
   "cell_type": "markdown",
   "metadata": {},
   "source": [
    "## Business case"
   ]
  },
  {
   "cell_type": "markdown",
   "metadata": {},
   "source": [
    "Warsaw is one of the largest cities in central Europe - thousands of tourists visit this city every day. The first and obvious step in holiday-planning is - \"Where we will stay\" ? Then the real problem begins. Hundreds of places to sleep and hundreds of places to visit. Searching through the web might be inefficient as we would need to check tens of pages...\n",
    "\n",
    "...and here is where we are coming with help"
   ]
  },
  {
   "cell_type": "markdown",
   "metadata": {},
   "source": [
    "### Problems"
   ]
  },
  {
   "cell_type": "markdown",
   "metadata": {},
   "source": [
    "We are here to recommend the best choice of stay in Warsaw, but how we are going to do it ?\n",
    "\n",
    "Couple of questions come into consideration\n",
    "\n",
    "+ How do we find hotels ?\n",
    "+ How do we grade them ?\n",
    "+ From where we obtain the data"
   ]
  },
  {
   "cell_type": "markdown",
   "metadata": {},
   "source": [
    "### Resolution"
   ]
  },
  {
   "cell_type": "markdown",
   "metadata": {},
   "source": [
    "#### First, lets describe the data source:\n",
    "\n",
    "All the data comes from Foursquare API - powerful application which contains geospatial data from all over the world. By using it, we will have access to all the hotel data in Warsaw as well as nearby venues which will help with recommendation process\n",
    "\n",
    "#### Second - grading method:\n",
    "\n",
    "We are going to assume that the best hotel would be the one, which has the highest online rating and has the most venues nearby. \n",
    "\n",
    "Having those 2 questions answered - we have the fundamentals to resolve that 'hotel issue in Warsaw'\n",
    "\n",
    "The final form of the recommendation will be the list of 5 best hotels using the assumptions above - This will surely help the people coming here :)"
   ]
  },
  {
   "cell_type": "markdown",
   "metadata": {},
   "source": [
    "***"
   ]
  },
  {
   "cell_type": "markdown",
   "metadata": {},
   "source": [
    "# Data"
   ]
  },
  {
   "cell_type": "markdown",
   "metadata": {},
   "source": [
    "Using GeoPy Python's library we are going to obtain the geographic localization of Warsaw. Once its done, utlizing Foursquare API, we are going to get full list of the hotels in the range of 10 km from the central city point. Once done, we will get online ratings for each hotel - this will help us to choose 5 best hotels in Warsaw. Once hotels are chosen, we will find nearby venues in the range of 1km from the hotel. The best hotel would be with highest online rating + with highest number of venues in a neighbourhood. All this data will be obtained using Foursquare API\n",
    "\n",
    "Having in mind that hotels may be "
   ]
  }
 ],
 "metadata": {
  "kernelspec": {
   "display_name": "Python 3",
   "language": "python",
   "name": "python3"
  },
  "language_info": {
   "codemirror_mode": {
    "name": "ipython",
    "version": 3
   },
   "file_extension": ".py",
   "mimetype": "text/x-python",
   "name": "python",
   "nbconvert_exporter": "python",
   "pygments_lexer": "ipython3",
   "version": "3.6.7"
  }
 },
 "nbformat": 4,
 "nbformat_minor": 4
}
